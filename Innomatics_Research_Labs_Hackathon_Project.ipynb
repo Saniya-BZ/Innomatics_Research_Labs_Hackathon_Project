{
  "nbformat": 4,
  "nbformat_minor": 0,
  "metadata": {
    "colab": {
      "provenance": [],
      "gpuType": "T4",
      "authorship_tag": "ABX9TyMeRi96vMfSezHqlToU/rft",
      "include_colab_link": true
    },
    "kernelspec": {
      "name": "python3",
      "display_name": "Python 3"
    },
    "language_info": {
      "name": "python"
    },
    "accelerator": "GPU"
  },
  "cells": [
    {
      "cell_type": "markdown",
      "metadata": {
        "id": "view-in-github",
        "colab_type": "text"
      },
      "source": [
        "<a href=\"https://colab.research.google.com/github/Saniya-BZ/Innomatics_Research_Labs_Hackathon_Project/blob/main/Innomatics_Research_Labs_Hackathon_Project.ipynb\" target=\"_parent\"><img src=\"https://colab.research.google.com/assets/colab-badge.svg\" alt=\"Open In Colab\"/></a>"
      ]
    },
    {
      "cell_type": "code",
      "execution_count": 2,
      "metadata": {
        "id": "l5TEf-ntMwCZ"
      },
      "outputs": [],
      "source": [
        "import pandas as pd\n",
        "import numpy as np\n",
        "import matplotlib.pyplot as plt"
      ]
    },
    {
      "cell_type": "code",
      "source": [
        "df_m = pd.read_csv('/content/movies.csv')\n",
        "df_r = pd.read_csv('/content/ratings.csv')\n",
        "df_l = pd.read_csv('/content/ratings.csv')\n",
        "df_t = pd.read_csv('/content/tags.csv')\n"
      ],
      "metadata": {
        "id": "QGQn88YuPiP9"
      },
      "execution_count": 3,
      "outputs": []
    },
    {
      "cell_type": "markdown",
      "source": [
        "##The number of \".csv\" files are available in the dataset are : 4"
      ],
      "metadata": {
        "id": "KryvIdVQzHRH"
      }
    },
    {
      "cell_type": "code",
      "source": [
        "import os\n",
        "directory = '/content/'\n",
        "\n",
        "files = os.listdir(directory)\n",
        "\n",
        "csv_files = [file for file in files if file.endswith('.csv')]\n",
        "csv_count = len(csv_files)\n",
        "\n",
        "print(f\"Number of CSV files: {csv_count}\")"
      ],
      "metadata": {
        "colab": {
          "base_uri": "https://localhost:8080/"
        },
        "id": "X0FH-wr-y7W-",
        "outputId": "c07e7c13-cbdb-42bb-df48-4457657a82a6"
      },
      "execution_count": 4,
      "outputs": [
        {
          "output_type": "stream",
          "name": "stdout",
          "text": [
            "Number of CSV files: 4\n"
          ]
        }
      ]
    },
    {
      "cell_type": "markdown",
      "source": [
        "## The shape of \"movies.csv\" is : (9742, 3)"
      ],
      "metadata": {
        "id": "_ecAXU3_B9bY"
      }
    },
    {
      "cell_type": "code",
      "source": [
        "df_m.shape"
      ],
      "metadata": {
        "colab": {
          "base_uri": "https://localhost:8080/"
        },
        "id": "zW7dxdPo_JdG",
        "outputId": "83403abd-5c5b-4196-e578-4fd53683ee28"
      },
      "execution_count": 6,
      "outputs": [
        {
          "output_type": "execute_result",
          "data": {
            "text/plain": [
              "(9742, 3)"
            ]
          },
          "metadata": {},
          "execution_count": 6
        }
      ]
    },
    {
      "cell_type": "markdown",
      "source": [
        "## The shape of \"ratings.csv\" is (100836, 4)"
      ],
      "metadata": {
        "id": "3Mup-VrYCJSt"
      }
    },
    {
      "cell_type": "code",
      "source": [
        "df_r.shape"
      ],
      "metadata": {
        "colab": {
          "base_uri": "https://localhost:8080/"
        },
        "id": "bDTchKSn_kXW",
        "outputId": "946242ad-eec5-482a-9218-c1c4edd68211"
      },
      "execution_count": 7,
      "outputs": [
        {
          "output_type": "execute_result",
          "data": {
            "text/plain": [
              "(100836, 4)"
            ]
          },
          "metadata": {},
          "execution_count": 7
        }
      ]
    },
    {
      "cell_type": "markdown",
      "source": [
        "## The Number of unique \"userId\" are available in \"ratings.csv\" are : 610\n"
      ],
      "metadata": {
        "id": "VH5g2T_CFQQp"
      }
    },
    {
      "cell_type": "code",
      "source": [
        "unique_users = df_r['userId'].nunique()\n",
        "print(f\"The number of unique 'userId' in 'ratings.csv' is: {unique_users}\")"
      ],
      "metadata": {
        "colab": {
          "base_uri": "https://localhost:8080/"
        },
        "id": "bhS8fCRSFH2Z",
        "outputId": "ec2d2489-4179-40f9-cf3c-2d79892e648d"
      },
      "execution_count": 28,
      "outputs": [
        {
          "output_type": "stream",
          "name": "stdout",
          "text": [
            "The number of unique 'userId' in 'ratings.csv' is: 610\n"
          ]
        }
      ]
    },
    {
      "cell_type": "markdown",
      "source": [
        "## The movie that have recieved maximum number of user ratings is : Forrest Gump\n"
      ],
      "metadata": {
        "id": "OUgMCA0MFbX7"
      }
    },
    {
      "cell_type": "code",
      "source": [
        "movie_rating_counts = df_r['movieId'].value_counts()\n",
        "max_rated_movie_id = movie_rating_counts.idxmax()\n",
        "max_rated_movie_title = df_m[df_m['movieId'] == max_rated_movie_id]['title'].values[0]\n",
        "\n",
        "print(f\"The movie with the most user ratings is: '{max_rated_movie_title}'\")"
      ],
      "metadata": {
        "colab": {
          "base_uri": "https://localhost:8080/"
        },
        "id": "yJN0xr38_6ws",
        "outputId": "308df1e3-eac0-4d8d-e57c-59125ad13b65"
      },
      "execution_count": 9,
      "outputs": [
        {
          "output_type": "stream",
          "name": "stdout",
          "text": [
            "The movie with the most user ratings is: 'Forrest Gump (1994)'\n"
          ]
        }
      ]
    },
    {
      "cell_type": "markdown",
      "source": [
        "## The correct tags submitted by users to \"Matrix, The (1999)\" movie are : 1. Alternate Universe 2. Philosophy 3. Post apocalyptic"
      ],
      "metadata": {
        "id": "6WxtBa0AFrUl"
      }
    },
    {
      "cell_type": "code",
      "source": [
        "matrix_movie_id = df_m[df_m['title'] == 'Matrix, The (1999)']['movieId'].values[0]\n",
        "matrix_tags = df_t[df_t['movieId'] == matrix_movie_id]['tag'].unique()\n",
        "print(f\"Tags for 'Matrix, The (1999)': {matrix_tags}\")"
      ],
      "metadata": {
        "colab": {
          "base_uri": "https://localhost:8080/"
        },
        "id": "RsA7uVrWADBy",
        "outputId": "17b0d5a4-2adb-405d-f527-02fc6f875fc5"
      },
      "execution_count": 10,
      "outputs": [
        {
          "output_type": "stream",
          "name": "stdout",
          "text": [
            "Tags for 'Matrix, The (1999)': ['martial arts' 'sci-fi' 'alternate universe' 'philosophy'\n",
            " 'post apocalyptic']\n"
          ]
        }
      ]
    },
    {
      "cell_type": "markdown",
      "source": [
        "## The average user rating for movie named \"Terminator 2: Judgment Day (1991) is: 3.97"
      ],
      "metadata": {
        "id": "QpkHF19aGBaZ"
      }
    },
    {
      "cell_type": "code",
      "source": [
        "terminator_movie_id = df_m[df_m['title'] == 'Terminator 2: Judgment Day (1991)']['movieId'].values[0]\n",
        "terminator_ratings = df_r[df_r['movieId'] == terminator_movie_id]['rating']\n",
        "average_rating = terminator_ratings.mean()\n",
        "print(f\"The average user rating for 'Terminator 2: Judgment Day (1991)' is: {average_rating:.2f}\")"
      ],
      "metadata": {
        "colab": {
          "base_uri": "https://localhost:8080/"
        },
        "id": "Q0Cm4maYAQrT",
        "outputId": "ec513b3e-0b90-414d-aef7-258071cf3563"
      },
      "execution_count": 11,
      "outputs": [
        {
          "output_type": "stream",
          "name": "stdout",
          "text": [
            "The average user rating for 'Terminator 2: Judgment Day (1991)' is: 3.97\n"
          ]
        }
      ]
    },
    {
      "cell_type": "markdown",
      "source": [
        "## The data distribution of user ratings for \"Fight Club (1999)\" movie looks like: Left Skewed Distribution\n"
      ],
      "metadata": {
        "id": "Wv4kQtfRGKwD"
      }
    },
    {
      "cell_type": "code",
      "source": [
        "fight_club_movie_id = df_m[df_m['title'] == 'Fight Club (1999)']['movieId'].values[0]\n",
        "fight_club_ratings = df_r[df_r['movieId'] == fight_club_movie_id]['rating']\n",
        "\n",
        "plt.figure(figsize=(8, 6))\n",
        "plt.hist(fight_club_ratings, bins=10, edgecolor='black', alpha=0.7)\n",
        "plt.title('Distribution of User Ratings for \"Fight Club (1999)\"')\n",
        "plt.xlabel('Rating')\n",
        "plt.ylabel('Frequency')\n",
        "plt.grid(axis='y')\n",
        "\n",
        "\n",
        "plt.show()"
      ],
      "metadata": {
        "colab": {
          "base_uri": "https://localhost:8080/",
          "height": 564
        },
        "id": "qjO3g12DAd7J",
        "outputId": "2a84f371-1f51-483d-e05b-b017915f14d7"
      },
      "execution_count": 12,
      "outputs": [
        {
          "output_type": "display_data",
          "data": {
            "text/plain": [
              "<Figure size 800x600 with 1 Axes>"
            ],
            "image/png": "[encoded data removed]"
          },
          "metadata": {}
        }
      ]
    },
    {
      "cell_type": "markdown",
      "source": [
        "## Group the user ratings based on movieId and apply aggregation operations like count and mean on ratings"
      ],
      "metadata": {
        "id": "MX_Xmgf8Gakm"
      }
    },
    {
      "cell_type": "code",
      "source": [
        "rating_stats = df_r.groupby('movieId')['rating'].agg(['count', 'mean']).reset_index()\n",
        "rating_stats.columns = ['movieId', 'rating_count', 'rating_mean']\n",
        "print(rating_stats.head())"
      ],
      "metadata": {
        "colab": {
          "base_uri": "https://localhost:8080/"
        },
        "id": "mnraWxS-AqIB",
        "outputId": "2cf1bbbf-4a72-4fe2-89b2-c6b5611272c3"
      },
      "execution_count": 13,
      "outputs": [
        {
          "output_type": "stream",
          "name": "stdout",
          "text": [
            "   movieId  rating_count  rating_mean\n",
            "0        1           215     3.920930\n",
            "1        2           110     3.431818\n",
            "2        3            52     3.259615\n",
            "3        4             7     2.357143\n",
            "4        5            49     3.071429\n"
          ]
        }
      ]
    },
    {
      "cell_type": "markdown",
      "source": [
        "## Apply inner join on dataframe created from movies.csv and the grouped df from step 1"
      ],
      "metadata": {
        "id": "4_x5axXcG2Pk"
      }
    },
    {
      "cell_type": "code",
      "source": [
        "rating_stats = df_r.groupby('movieId')['rating'].agg(['count', 'mean']).reset_index()\n",
        "rating_stats.columns = ['movieId', 'rating_count', 'rating_mean']\n",
        "merged_df = pd.merge(df_m, rating_stats, on='movieId', how='inner')\n",
        "print(merged_df.head())"
      ],
      "metadata": {
        "colab": {
          "base_uri": "https://localhost:8080/"
        },
        "id": "ld4NU8ONA0vO",
        "outputId": "55a47922-4189-4c4c-95f4-74ca1dfad67e"
      },
      "execution_count": 14,
      "outputs": [
        {
          "output_type": "stream",
          "name": "stdout",
          "text": [
            "   movieId                               title  \\\n",
            "0        1                    Toy Story (1995)   \n",
            "1        2                      Jumanji (1995)   \n",
            "2        3             Grumpier Old Men (1995)   \n",
            "3        4            Waiting to Exhale (1995)   \n",
            "4        5  Father of the Bride Part II (1995)   \n",
            "\n",
            "                                        genres  rating_count  rating_mean  \n",
            "0  Adventure|Animation|Children|Comedy|Fantasy           215     3.920930  \n",
            "1                   Adventure|Children|Fantasy           110     3.431818  \n",
            "2                               Comedy|Romance            52     3.259615  \n",
            "3                         Comedy|Drama|Romance             7     2.357143  \n",
            "4                                       Comedy            49     3.071429  \n"
          ]
        }
      ]
    },
    {
      "cell_type": "markdown",
      "source": [
        "## Filter only those movies which have more than 50 user ratings (i.e. > 50)"
      ],
      "metadata": {
        "id": "vCpkzWTYG9Y3"
      }
    },
    {
      "cell_type": "code",
      "source": [
        "rating_stats = df_r.groupby('movieId')['rating'].agg(['count', 'mean']).reset_index()\n",
        "rating_stats.columns = ['movieId', 'rating_count', 'rating_mean']\n",
        "\n",
        "merged_df = pd.merge(df_m, rating_stats, on='movieId', how='inner')\n",
        "filtered_movies_df = merged_df[merged_df['rating_count'] > 50]\n",
        "print(filtered_movies_df.head())"
      ],
      "metadata": {
        "colab": {
          "base_uri": "https://localhost:8080/"
        },
        "id": "UweEovTCA-Uz",
        "outputId": "eb6297c2-86b7-4477-9d06-d7a897733b1b"
      },
      "execution_count": 15,
      "outputs": [
        {
          "output_type": "stream",
          "name": "stdout",
          "text": [
            "   movieId                    title  \\\n",
            "0        1         Toy Story (1995)   \n",
            "1        2           Jumanji (1995)   \n",
            "2        3  Grumpier Old Men (1995)   \n",
            "5        6              Heat (1995)   \n",
            "6        7           Sabrina (1995)   \n",
            "\n",
            "                                        genres  rating_count  rating_mean  \n",
            "0  Adventure|Animation|Children|Comedy|Fantasy           215     3.920930  \n",
            "1                   Adventure|Children|Fantasy           110     3.431818  \n",
            "2                               Comedy|Romance            52     3.259615  \n",
            "5                        Action|Crime|Thriller           102     3.946078  \n",
            "6                               Comedy|Romance            54     3.185185  \n"
          ]
        }
      ]
    },
    {
      "cell_type": "markdown",
      "source": [
        "## The most popular movie based on  average user ratings is: Shawshank Redemption, The (1994)' with an average rating of 4.43"
      ],
      "metadata": {
        "id": "gob3Yjn4HB9H"
      }
    },
    {
      "cell_type": "code",
      "source": [
        "most_popular_movie = filtered_movies_df.loc[filtered_movies_df['rating_mean'].idxmax()]\n",
        "\n",
        "most_popular_movie_title = most_popular_movie['title']\n",
        "most_popular_movie_rating = most_popular_movie['rating_mean']\n",
        "\n",
        "print(f\"The most popular movie based on average user ratings is '{most_popular_movie_title}' with an average rating of {most_popular_movie_rating:.2f}.\")"
      ],
      "metadata": {
        "colab": {
          "base_uri": "https://localhost:8080/"
        },
        "id": "v1zI-j8-BKW7",
        "outputId": "0d05e443-f83c-43c1-8b82-1268d2e32b65"
      },
      "execution_count": 16,
      "outputs": [
        {
          "output_type": "stream",
          "name": "stdout",
          "text": [
            "The most popular movie based on average user ratings is 'Shawshank Redemption, The (1994)' with an average rating of 4.43.\n"
          ]
        }
      ]
    },
    {
      "cell_type": "markdown",
      "source": [
        "## The top 5 popular movies based on number of user ratings :  1. Forrest Gump 2. Shawshank Redemption 3. The Pulp Fiction"
      ],
      "metadata": {
        "id": "dYI0yn7HHR-Y"
      }
    },
    {
      "cell_type": "code",
      "source": [
        "top_movies_df = filtered_movies_df.sort_values(by='rating_count', ascending=False)\n",
        "top_5_movies = top_movies_df.head(5)\n",
        "\n",
        "print(top_5_movies[['title', 'rating_count']])"
      ],
      "metadata": {
        "colab": {
          "base_uri": "https://localhost:8080/"
        },
        "id": "F1EtqzY-BUmZ",
        "outputId": "4061f774-23e4-4d74-c640-26c9c5a6b4fd"
      },
      "execution_count": 17,
      "outputs": [
        {
          "output_type": "stream",
          "name": "stdout",
          "text": [
            "                                 title  rating_count\n",
            "314                Forrest Gump (1994)           329\n",
            "277   Shawshank Redemption, The (1994)           317\n",
            "257                Pulp Fiction (1994)           307\n",
            "510   Silence of the Lambs, The (1991)           279\n",
            "1938                Matrix, The (1999)           278\n"
          ]
        }
      ]
    },
    {
      "cell_type": "markdown",
      "source": [
        "### The Sci-Fi movie which is \"third most popular\" based on the number of user ratings : Jurassic Park (1993) with 238 ratings"
      ],
      "metadata": {
        "id": "jVByHRfkHyt_"
      }
    },
    {
      "cell_type": "code",
      "source": [
        "sci_fi_movies_df = filtered_movies_df[filtered_movies_df['genres'].str.contains('Sci-Fi')]\n",
        "sorted_sci_fi_movies_df = sci_fi_movies_df.sort_values(by='rating_count', ascending=False)\n",
        "third_most_popular_sci_fi_movie = sorted_sci_fi_movies_df.iloc[2]\n",
        "\n",
        "movie_title = third_most_popular_sci_fi_movie['title']\n",
        "rating_count = third_most_popular_sci_fi_movie['rating_count']\n",
        "\n",
        "print(f\"The third most popular Sci-Fi movie based on the number of user ratings is '{movie_title}' with {rating_count} ratings.\")"
      ],
      "metadata": {
        "colab": {
          "base_uri": "https://localhost:8080/"
        },
        "id": "-7Dt3XQQBe_4",
        "outputId": "cd99b991-0982-4282-f6eb-276ac16c8f89"
      },
      "execution_count": 18,
      "outputs": [
        {
          "output_type": "stream",
          "name": "stdout",
          "text": [
            "The third most popular Sci-Fi movie based on the number of user ratings is 'Jurassic Park (1993)' with 238 ratings.\n"
          ]
        }
      ]
    },
    {
      "cell_type": "code",
      "source": [
        "filtered_movies_df"
      ],
      "metadata": {
        "colab": {
          "base_uri": "https://localhost:8080/",
          "height": 493
        },
        "id": "7xMEk_-5DkUG",
        "outputId": "52024794-5faf-4594-8b4e-254d9e87eef3"
      },
      "execution_count": 20,
      "outputs": [
        {
          "output_type": "execute_result",
          "data": {
            "text/plain": [
              "      movieId                             title  \\\n",
              "0           1                  Toy Story (1995)   \n",
              "1           2                    Jumanji (1995)   \n",
              "2           3           Grumpier Old Men (1995)   \n",
              "5           6                       Heat (1995)   \n",
              "6           7                    Sabrina (1995)   \n",
              "...       ...                               ...   \n",
              "8287   106782   Wolf of Wall Street, The (2013)   \n",
              "8354   109374  Grand Budapest Hotel, The (2014)   \n",
              "8358   109487               Interstellar (2014)   \n",
              "8457   112852    Guardians of the Galaxy (2014)   \n",
              "8673   122904                   Deadpool (2016)   \n",
              "\n",
              "                                           genres  rating_count  rating_mean  \n",
              "0     Adventure|Animation|Children|Comedy|Fantasy           215     3.920930  \n",
              "1                      Adventure|Children|Fantasy           110     3.431818  \n",
              "2                                  Comedy|Romance            52     3.259615  \n",
              "5                           Action|Crime|Thriller           102     3.946078  \n",
              "6                                  Comedy|Romance            54     3.185185  \n",
              "...                                           ...           ...          ...  \n",
              "8287                           Comedy|Crime|Drama            54     3.916667  \n",
              "8354                                 Comedy|Drama            52     3.778846  \n",
              "8358                                  Sci-Fi|IMAX            73     3.993151  \n",
              "8457                      Action|Adventure|Sci-Fi            59     4.050847  \n",
              "8673               Action|Adventure|Comedy|Sci-Fi            54     3.833333  \n",
              "\n",
              "[436 rows x 5 columns]"
            ],
            "text/html": [
              "\n",
              "  <div id=\"df-1a6e80e2-8bf0-4232-8997-93484c89ab43\" class=\"colab-df-container\">\n",
              "    <div>\n",
              "<style scoped>\n",
              "    .dataframe tbody tr th:only-of-type {\n",
              "        vertical-align: middle;\n",
              "    }\n",
              "\n",
              "    .dataframe tbody tr th {\n",
              "        vertical-align: top;\n",
              "    }\n",
              "\n",
              "    .dataframe thead th {\n",
              "        text-align: right;\n",
              "    }\n",
              "</style>\n",
              "<table border=\"1\" class=\"dataframe\">\n",
              "  <thead>\n",
              "    <tr style=\"text-align: right;\">\n",
              "      <th></th>\n",
              "      <th>movieId</th>\n",
              "      <th>title</th>\n",
              "      <th>genres</th>\n",
              "      <th>rating_count</th>\n",
              "      <th>rating_mean</th>\n",
              "    </tr>\n",
              "  </thead>\n",
              "  <tbody>\n",
              "    <tr>\n",
              "      <th>0</th>\n",
              "      <td>1</td>\n",
              "      <td>Toy Story (1995)</td>\n",
              "      <td>Adventure|Animation|Children|Comedy|Fantasy</td>\n",
              "      <td>215</td>\n",
              "      <td>3.920930</td>\n",
              "    </tr>\n",
              "    <tr>\n",
              "      <th>1</th>\n",
              "      <td>2</td>\n",
              "      <td>Jumanji (1995)</td>\n",
              "      <td>Adventure|Children|Fantasy</td>\n",
              "      <td>110</td>\n",
              "      <td>3.431818</td>\n",
              "    </tr>\n",
              "    <tr>\n",
              "      <th>2</th>\n",
              "      <td>3</td>\n",
              "      <td>Grumpier Old Men (1995)</td>\n",
              "      <td>Comedy|Romance</td>\n",
              "      <td>52</td>\n",
              "      <td>3.259615</td>\n",
              "    </tr>\n",
              "    <tr>\n",
              "      <th>5</th>\n",
              "      <td>6</td>\n",
              "      <td>Heat (1995)</td>\n",
              "      <td>Action|Crime|Thriller</td>\n",
              "      <td>102</td>\n",
              "      <td>3.946078</td>\n",
              "    </tr>\n",
              "    <tr>\n",
              "      <th>6</th>\n",
              "      <td>7</td>\n",
              "      <td>Sabrina (1995)</td>\n",
              "      <td>Comedy|Romance</td>\n",
              "      <td>54</td>\n",
              "      <td>3.185185</td>\n",
              "    </tr>\n",
              "    <tr>\n",
              "      <th>...</th>\n",
              "      <td>...</td>\n",
              "      <td>...</td>\n",
              "      <td>...</td>\n",
              "      <td>...</td>\n",
              "      <td>...</td>\n",
              "    </tr>\n",
              "    <tr>\n",
              "      <th>8287</th>\n",
              "      <td>106782</td>\n",
              "      <td>Wolf of Wall Street, The (2013)</td>\n",
              "      <td>Comedy|Crime|Drama</td>\n",
              "      <td>54</td>\n",
              "      <td>3.916667</td>\n",
              "    </tr>\n",
              "    <tr>\n",
              "      <th>8354</th>\n",
              "      <td>109374</td>\n",
              "      <td>Grand Budapest Hotel, The (2014)</td>\n",
              "      <td>Comedy|Drama</td>\n",
              "      <td>52</td>\n",
              "      <td>3.778846</td>\n",
              "    </tr>\n",
              "    <tr>\n",
              "      <th>8358</th>\n",
              "      <td>109487</td>\n",
              "      <td>Interstellar (2014)</td>\n",
              "      <td>Sci-Fi|IMAX</td>\n",
              "      <td>73</td>\n",
              "      <td>3.993151</td>\n",
              "    </tr>\n",
              "    <tr>\n",
              "      <th>8457</th>\n",
              "      <td>112852</td>\n",
              "      <td>Guardians of the Galaxy (2014)</td>\n",
              "      <td>Action|Adventure|Sci-Fi</td>\n",
              "      <td>59</td>\n",
              "      <td>4.050847</td>\n",
              "    </tr>\n",
              "    <tr>\n",
              "      <th>8673</th>\n",
              "      <td>122904</td>\n",
              "      <td>Deadpool (2016)</td>\n",
              "      <td>Action|Adventure|Comedy|Sci-Fi</td>\n",
              "      <td>54</td>\n",
              "      <td>3.833333</td>\n",
              "    </tr>\n",
              "  </tbody>\n",
              "</table>\n",
              "<p>436 rows × 5 columns</p>\n",
              "</div>\n",
              "    <div class=\"colab-df-buttons\">\n",
              "\n",
              "  <div class=\"colab-df-container\">\n",
              "    <button class=\"colab-df-convert\" onclick=\"convertToInteractive('df-1a6e80e2-8bf0-4232-8997-93484c89ab43')\"\n",
              "            title=\"Convert this dataframe to an interactive table.\"\n",
              "            style=\"display:none;\">\n",
              "\n",
              "  <svg xmlns=\"http://www.w3.org/2000/svg\" height=\"24px\" viewBox=\"0 -960 960 960\">\n",
              "    <path d=\"M120-120v-720h720v720H120Zm60-500h600v-160H180v160Zm220 220h160v-160H400v160Zm0 220h160v-160H400v160ZM180-400h160v-160H180v160Zm440 0h160v-160H620v160ZM180-180h160v-160H180v160Zm440 0h160v-160H620v160Z\"/>\n",
              "  </svg>\n",
              "    </button>\n",
              "\n",
              "  <style>\n",
              "    .colab-df-container {\n",
              "      display:flex;\n",
              "      gap: 12px;\n",
              "    }\n",
              "\n",
              "    .colab-df-convert {\n",
              "      background-color: #E8F0FE;\n",
              "      border: none;\n",
              "      border-radius: 50%;\n",
              "      cursor: pointer;\n",
              "      display: none;\n",
              "      fill: #1967D2;\n",
              "      height: 32px;\n",
              "      padding: 0 0 0 0;\n",
              "      width: 32px;\n",
              "    }\n",
              "\n",
              "    .colab-df-convert:hover {\n",
              "      background-color: #E2EBFA;\n",
              "      box-shadow: 0px 1px 2px rgba(60, 64, 67, 0.3), 0px 1px 3px 1px rgba(60, 64, 67, 0.15);\n",
              "      fill: #174EA6;\n",
              "    }\n",
              "\n",
              "    .colab-df-buttons div {\n",
              "      margin-bottom: 4px;\n",
              "    }\n",
              "\n",
              "    [theme=dark] .colab-df-convert {\n",
              "      background-color: #3B4455;\n",
              "      fill: #D2E3FC;\n",
              "    }\n",
              "\n",
              "    [theme=dark] .colab-df-convert:hover {\n",
              "      background-color: #434B5C;\n",
              "      box-shadow: 0px 1px 3px 1px rgba(0, 0, 0, 0.15);\n",
              "      filter: drop-shadow(0px 1px 2px rgba(0, 0, 0, 0.3));\n",
              "      fill: #FFFFFF;\n",
              "    }\n",
              "  </style>\n",
              "\n",
              "    <script>\n",
              "      const buttonEl =\n",
              "        document.querySelector('#df-1a6e80e2-8bf0-4232-8997-93484c89ab43 button.colab-df-convert');\n",
              "      buttonEl.style.display =\n",
              "        google.colab.kernel.accessAllowed ? 'block' : 'none';\n",
              "\n",
              "      async function convertToInteractive(key) {\n",
              "        const element = document.querySelector('#df-1a6e80e2-8bf0-4232-8997-93484c89ab43');\n",
              "        const dataTable =\n",
              "          await google.colab.kernel.invokeFunction('convertToInteractive',\n",
              "                                                    [key], {});\n",
              "        if (!dataTable) return;\n",
              "\n",
              "        const docLinkHtml = 'Like what you see? Visit the ' +\n",
              "          '<a target=\"_blank\" href=https://colab.research.google.com/notebooks/data_table.ipynb>data table notebook</a>'\n",
              "          + ' to learn more about interactive tables.';\n",
              "        element.innerHTML = '';\n",
              "        dataTable['output_type'] = 'display_data';\n",
              "        await google.colab.output.renderOutput(dataTable, element);\n",
              "        const docLink = document.createElement('div');\n",
              "        docLink.innerHTML = docLinkHtml;\n",
              "        element.appendChild(docLink);\n",
              "      }\n",
              "    </script>\n",
              "  </div>\n",
              "\n",
              "\n",
              "<div id=\"df-3d17219f-db88-4126-a90d-1faf836d38b5\">\n",
              "  <button class=\"colab-df-quickchart\" onclick=\"quickchart('df-3d17219f-db88-4126-a90d-1faf836d38b5')\"\n",
              "            title=\"Suggest charts\"\n",
              "            style=\"display:none;\">\n",
              "\n",
              "<svg xmlns=\"http://www.w3.org/2000/svg\" height=\"24px\"viewBox=\"0 0 24 24\"\n",
              "     width=\"24px\">\n",
              "    <g>\n",
              "        <path d=\"M19 3H5c-1.1 0-2 .9-2 2v14c0 1.1.9 2 2 2h14c1.1 0 2-.9 2-2V5c0-1.1-.9-2-2-2zM9 17H7v-7h2v7zm4 0h-2V7h2v10zm4 0h-2v-4h2v4z\"/>\n",
              "    </g>\n",
              "</svg>\n",
              "  </button>\n",
              "\n",
              "<style>\n",
              "  .colab-df-quickchart {\n",
              "      --bg-color: #E8F0FE;\n",
              "      --fill-color: #1967D2;\n",
              "      --hover-bg-color: #E2EBFA;\n",
              "      --hover-fill-color: #174EA6;\n",
              "      --disabled-fill-color: #AAA;\n",
              "      --disabled-bg-color: #DDD;\n",
              "  }\n",
              "\n",
              "  [theme=dark] .colab-df-quickchart {\n",
              "      --bg-color: #3B4455;\n",
              "      --fill-color: #D2E3FC;\n",
              "      --hover-bg-color: #434B5C;\n",
              "      --hover-fill-color: #FFFFFF;\n",
              "      --disabled-bg-color: #3B4455;\n",
              "      --disabled-fill-color: #666;\n",
              "  }\n",
              "\n",
              "  .colab-df-quickchart {\n",
              "    background-color: var(--bg-color);\n",
              "    border: none;\n",
              "    border-radius: 50%;\n",
              "    cursor: pointer;\n",
              "    display: none;\n",
              "    fill: var(--fill-color);\n",
              "    height: 32px;\n",
              "    padding: 0;\n",
              "    width: 32px;\n",
              "  }\n",
              "\n",
              "  .colab-df-quickchart:hover {\n",
              "    background-color: var(--hover-bg-color);\n",
              "    box-shadow: 0 1px 2px rgba(60, 64, 67, 0.3), 0 1px 3px 1px rgba(60, 64, 67, 0.15);\n",
              "    fill: var(--button-hover-fill-color);\n",
              "  }\n",
              "\n",
              "  .colab-df-quickchart-complete:disabled,\n",
              "  .colab-df-quickchart-complete:disabled:hover {\n",
              "    background-color: var(--disabled-bg-color);\n",
              "    fill: var(--disabled-fill-color);\n",
              "    box-shadow: none;\n",
              "  }\n",
              "\n",
              "  .colab-df-spinner {\n",
              "    border: 2px solid var(--fill-color);\n",
              "    border-color: transparent;\n",
              "    border-bottom-color: var(--fill-color);\n",
              "    animation:\n",
              "      spin 1s steps(1) infinite;\n",
              "  }\n",
              "\n",
              "  @keyframes spin {\n",
              "    0% {\n",
              "      border-color: transparent;\n",
              "      border-bottom-color: var(--fill-color);\n",
              "      border-left-color: var(--fill-color);\n",
              "    }\n",
              "    20% {\n",
              "      border-color: transparent;\n",
              "      border-left-color: var(--fill-color);\n",
              "      border-top-color: var(--fill-color);\n",
              "    }\n",
              "    30% {\n",
              "      border-color: transparent;\n",
              "      border-left-color: var(--fill-color);\n",
              "      border-top-color: var(--fill-color);\n",
              "      border-right-color: var(--fill-color);\n",
              "    }\n",
              "    40% {\n",
              "      border-color: transparent;\n",
              "      border-right-color: var(--fill-color);\n",
              "      border-top-color: var(--fill-color);\n",
              "    }\n",
              "    60% {\n",
              "      border-color: transparent;\n",
              "      border-right-color: var(--fill-color);\n",
              "    }\n",
              "    80% {\n",
              "      border-color: transparent;\n",
              "      border-right-color: var(--fill-color);\n",
              "      border-bottom-color: var(--fill-color);\n",
              "    }\n",
              "    90% {\n",
              "      border-color: transparent;\n",
              "      border-bottom-color: var(--fill-color);\n",
              "    }\n",
              "  }\n",
              "</style>\n",
              "\n",
              "  <script>\n",
              "    async function quickchart(key) {\n",
              "      const quickchartButtonEl =\n",
              "        document.querySelector('#' + key + ' button');\n",
              "      quickchartButtonEl.disabled = true;  // To prevent multiple clicks.\n",
              "      quickchartButtonEl.classList.add('colab-df-spinner');\n",
              "      try {\n",
              "        const charts = await google.colab.kernel.invokeFunction(\n",
              "            'suggestCharts', [key], {});\n",
              "      } catch (error) {\n",
              "        console.error('Error during call to suggestCharts:', error);\n",
              "      }\n",
              "      quickchartButtonEl.classList.remove('colab-df-spinner');\n",
              "      quickchartButtonEl.classList.add('colab-df-quickchart-complete');\n",
              "    }\n",
              "    (() => {\n",
              "      let quickchartButtonEl =\n",
              "        document.querySelector('#df-3d17219f-db88-4126-a90d-1faf836d38b5 button');\n",
              "      quickchartButtonEl.style.display =\n",
              "        google.colab.kernel.accessAllowed ? 'block' : 'none';\n",
              "    })();\n",
              "  </script>\n",
              "</div>\n",
              "\n",
              "  <div id=\"id_0f0d41ab-fa78-4bdb-80f3-ea90e3586ca5\">\n",
              "    <style>\n",
              "      .colab-df-generate {\n",
              "        background-color: #E8F0FE;\n",
              "        border: none;\n",
              "        border-radius: 50%;\n",
              "        cursor: pointer;\n",
              "        display: none;\n",
              "        fill: #1967D2;\n",
              "        height: 32px;\n",
              "        padding: 0 0 0 0;\n",
              "        width: 32px;\n",
              "      }\n",
              "\n",
              "      .colab-df-generate:hover {\n",
              "        background-color: #E2EBFA;\n",
              "        box-shadow: 0px 1px 2px rgba(60, 64, 67, 0.3), 0px 1px 3px 1px rgba(60, 64, 67, 0.15);\n",
              "        fill: #174EA6;\n",
              "      }\n",
              "\n",
              "      [theme=dark] .colab-df-generate {\n",
              "        background-color: #3B4455;\n",
              "        fill: #D2E3FC;\n",
              "      }\n",
              "\n",
              "      [theme=dark] .colab-df-generate:hover {\n",
              "        background-color: #434B5C;\n",
              "        box-shadow: 0px 1px 3px 1px rgba(0, 0, 0, 0.15);\n",
              "        filter: drop-shadow(0px 1px 2px rgba(0, 0, 0, 0.3));\n",
              "        fill: #FFFFFF;\n",
              "      }\n",
              "    </style>\n",
              "    <button class=\"colab-df-generate\" onclick=\"generateWithVariable('filtered_movies_df')\"\n",
              "            title=\"Generate code using this dataframe.\"\n",
              "            style=\"display:none;\">\n",
              "\n",
              "  <svg xmlns=\"http://www.w3.org/2000/svg\" height=\"24px\"viewBox=\"0 0 24 24\"\n",
              "       width=\"24px\">\n",
              "    <path d=\"M7,19H8.4L18.45,9,17,7.55,7,17.6ZM5,21V16.75L18.45,3.32a2,2,0,0,1,2.83,0l1.4,1.43a1.91,1.91,0,0,1,.58,1.4,1.91,1.91,0,0,1-.58,1.4L9.25,21ZM18.45,9,17,7.55Zm-12,3A5.31,5.31,0,0,0,4.9,8.1,5.31,5.31,0,0,0,1,6.5,5.31,5.31,0,0,0,4.9,4.9,5.31,5.31,0,0,0,6.5,1,5.31,5.31,0,0,0,8.1,4.9,5.31,5.31,0,0,0,12,6.5,5.46,5.46,0,0,0,6.5,12Z\"/>\n",
              "  </svg>\n",
              "    </button>\n",
              "    <script>\n",
              "      (() => {\n",
              "      const buttonEl =\n",
              "        document.querySelector('#id_0f0d41ab-fa78-4bdb-80f3-ea90e3586ca5 button.colab-df-generate');\n",
              "      buttonEl.style.display =\n",
              "        google.colab.kernel.accessAllowed ? 'block' : 'none';\n",
              "\n",
              "      buttonEl.onclick = () => {\n",
              "        google.colab.notebook.generateWithVariable('filtered_movies_df');\n",
              "      }\n",
              "      })();\n",
              "    </script>\n",
              "  </div>\n",
              "\n",
              "    </div>\n",
              "  </div>\n"
            ],
            "application/vnd.google.colaboratory.intrinsic+json": {
              "type": "dataframe",
              "variable_name": "filtered_movies_df",
              "summary": "{\n  \"name\": \"filtered_movies_df\",\n  \"rows\": 436,\n  \"fields\": [\n    {\n      \"column\": \"movieId\",\n      \"properties\": {\n        \"dtype\": \"number\",\n        \"std\": 22519,\n        \"min\": 1,\n        \"max\": 122904,\n        \"num_unique_values\": 436,\n        \"samples\": [\n          49530,\n          466,\n          3052\n        ],\n        \"semantic_type\": \"\",\n        \"description\": \"\"\n      }\n    },\n    {\n      \"column\": \"title\",\n      \"properties\": {\n        \"dtype\": \"string\",\n        \"num_unique_values\": 436,\n        \"samples\": [\n          \"Blood Diamond (2006)\",\n          \"Hot Shots! Part Deux (1993)\",\n          \"Dogma (1999)\"\n        ],\n        \"semantic_type\": \"\",\n        \"description\": \"\"\n      }\n    },\n    {\n      \"column\": \"genres\",\n      \"properties\": {\n        \"dtype\": \"category\",\n        \"num_unique_values\": 201,\n        \"samples\": [\n          \"Action|Adventure|Western\",\n          \"Drama\",\n          \"Drama|Thriller\"\n        ],\n        \"semantic_type\": \"\",\n        \"description\": \"\"\n      }\n    },\n    {\n      \"column\": \"rating_count\",\n      \"properties\": {\n        \"dtype\": \"number\",\n        \"std\": 46,\n        \"min\": 51,\n        \"max\": 329,\n        \"num_unique_values\": 127,\n        \"samples\": [\n          137,\n          113,\n          202\n        ],\n        \"semantic_type\": \"\",\n        \"description\": \"\"\n      }\n    },\n    {\n      \"column\": \"rating_mean\",\n      \"properties\": {\n        \"dtype\": \"number\",\n        \"std\": 0.38316588361649173,\n        \"min\": 2.207547169811321,\n        \"max\": 4.429022082018927,\n        \"num_unique_values\": 423,\n        \"samples\": [\n          4.145833333333333,\n          3.4754098360655736,\n          3.879120879120879\n        ],\n        \"semantic_type\": \"\",\n        \"description\": \"\"\n      }\n    }\n  ]\n}"
            }
          },
          "metadata": {},
          "execution_count": 20
        }
      ]
    },
    {
      "cell_type": "code",
      "source": [
        "import pandas as pd\n",
        "import time\n",
        "import requests\n",
        "from bs4 import BeautifulSoup\n",
        "import numpy as np\n",
        "\n",
        "\n",
        "links_df = pd.read_csv('/content/links.csv')\n",
        "\n",
        "filtered_movies = filtered_movies_df[filtered_movies_df['rating_count'] > 50]\n",
        "filtered_movies = pd.merge(filtered_movies, links_df[['movieId', 'imdbId']], on='movieId')\n",
        "\n",
        "\n",
        "filtered_movies['imdb_rating'] = filtered_movies['imdbId'].apply(lambda x: scrapper(x))\n",
        "\n",
        "time.sleep(2)\n",
        "\n",
        "print(filtered_movies[['title', 'imdb_rating']].head())"
      ],
      "metadata": {
        "colab": {
          "base_uri": "https://localhost:8080/"
        },
        "id": "gM9IYspCBoNT",
        "outputId": "2496b2fb-cfbf-4faf-e6ba-09e5e418578c"
      },
      "execution_count": 25,
      "outputs": [
        {
          "output_type": "stream",
          "name": "stdout",
          "text": [
            "Scraping URL: https://www.imdb.com/title/tt0114709/\n",
            "Scraping URL: https://www.imdb.com/title/tt0113497/\n",
            "Scraping URL: https://www.imdb.com/title/tt0113228/\n",
            "Scraping URL: https://www.imdb.com/title/tt0113277/\n",
            "Scraping URL: https://www.imdb.com/title/tt0114319/\n",
            "Scraping URL: https://www.imdb.com/title/tt0113189/\n",
            "Scraping URL: https://www.imdb.com/title/tt0112346/\n",
            "Scraping URL: https://www.imdb.com/title/tt0112641/\n",
            "Scraping URL: https://www.imdb.com/title/tt0114388/\n",
            "Scraping URL: https://www.imdb.com/title/tt0112281/\n",
            "Scraping URL: https://www.imdb.com/title/tt0113161/\n",
            "Scraping URL: https://www.imdb.com/title/tt0113627/\n",
            "Scraping URL: https://www.imdb.com/title/tt0114746/\n",
            "Scraping URL: https://www.imdb.com/title/tt0112431/\n",
            "Scraping URL: https://www.imdb.com/title/tt0112818/\n",
            "Scraping URL: https://www.imdb.com/title/tt0112697/\n",
            "Scraping URL: https://www.imdb.com/title/tt0114369/\n",
            "Scraping URL: https://www.imdb.com/title/tt0114148/\n",
            "Scraping URL: https://www.imdb.com/title/tt0114814/\n",
            "Scraping URL: https://www.imdb.com/title/tt0113862/\n",
            "Scraping URL: https://www.imdb.com/title/tt0116367/\n",
            "Scraping URL: https://www.imdb.com/title/tt0115759/\n",
            "Scraping URL: https://www.imdb.com/title/tt0116483/\n",
            "Scraping URL: https://www.imdb.com/title/tt0112573/\n",
            "Scraping URL: https://www.imdb.com/title/tt0075314/\n",
            "Scraping URL: https://www.imdb.com/title/tt0115685/\n",
            "Scraping URL: https://www.imdb.com/title/tt0112442/\n",
            "Scraping URL: https://www.imdb.com/title/tt0112384/\n",
            "Scraping URL: https://www.imdb.com/title/tt0112462/\n",
            "Scraping URL: https://www.imdb.com/title/tt0112642/\n",
            "Scraping URL: https://www.imdb.com/title/tt0112715/\n",
            "Scraping URL: https://www.imdb.com/title/tt0112740/\n",
            "Scraping URL: https://www.imdb.com/title/tt0112851/\n",
            "Scraping URL: https://www.imdb.com/title/tt0112864/\n",
            "Scraping URL: https://www.imdb.com/title/tt0113071/\n",
            "Scraping URL: https://www.imdb.com/title/tt0113481/\n",
            "Scraping URL: https://www.imdb.com/title/tt0113492/\n",
            "Scraping URL: https://www.imdb.com/title/tt0113957/\n",
            "Scraping URL: https://www.imdb.com/title/tt0114898/\n",
            "Scraping URL: https://www.imdb.com/title/tt0109445/\n",
            "Scraping URL: https://www.imdb.com/title/tt0109635/\n",
            "Scraping URL: https://www.imdb.com/title/tt0109686/\n",
            "Scraping URL: https://www.imdb.com/title/tt0109707/\n",
            "Scraping URL: https://www.imdb.com/title/tt0110148/\n",
            "Scraping URL: https://www.imdb.com/title/tt0076759/\n",
            "Scraping URL: https://www.imdb.com/title/tt0110322/\n",
            "Scraping URL: https://www.imdb.com/title/tt0110632/\n",
            "Scraping URL: https://www.imdb.com/title/tt0114069/\n",
            "Scraping URL: https://www.imdb.com/title/tt0110413/\n",
            "Scraping URL: https://www.imdb.com/title/tt0110912/\n",
            "Scraping URL: https://www.imdb.com/title/tt0110932/\n",
            "Scraping URL: https://www.imdb.com/title/tt0111282/\n",
            "Scraping URL: https://www.imdb.com/title/tt0111070/\n",
            "Scraping URL: https://www.imdb.com/title/tt0111161/\n",
            "Scraping URL: https://www.imdb.com/title/tt0111280/\n",
            "Scraping URL: https://www.imdb.com/title/tt0108550/\n",
            "Scraping URL: https://www.imdb.com/title/tt0114924/\n",
            "Scraping URL: https://www.imdb.com/title/tt0109040/\n",
            "Scraping URL: https://www.imdb.com/title/tt0109444/\n",
            "Scraping URL: https://www.imdb.com/title/tt0109446/\n",
            "Scraping URL: https://www.imdb.com/title/tt0109506/\n",
            "Scraping URL: https://www.imdb.com/title/tt0109830/\n",
            "Scraping URL: https://www.imdb.com/title/tt0109831/\n",
            "Scraping URL: https://www.imdb.com/title/tt0110357/\n",
            "Scraping URL: https://www.imdb.com/title/tt0110475/\n",
            "Scraping URL: https://www.imdb.com/title/tt0110478/\n",
            "Scraping URL: https://www.imdb.com/title/tt0110622/\n",
            "Scraping URL: https://www.imdb.com/title/tt0111257/\n",
            "Scraping URL: https://www.imdb.com/title/tt0111503/\n",
            "Scraping URL: https://www.imdb.com/title/tt0106220/\n",
            "Scraping URL: https://www.imdb.com/title/tt0109254/\n",
            "Scraping URL: https://www.imdb.com/title/tt0109439/\n",
            "Scraping URL: https://www.imdb.com/title/tt0106582/\n",
            "Scraping URL: https://www.imdb.com/title/tt0106598/\n",
            "Scraping URL: https://www.imdb.com/title/tt0106673/\n",
            "Scraping URL: https://www.imdb.com/title/tt0106697/\n",
            "Scraping URL: https://www.imdb.com/title/tt0106918/\n",
            "Scraping URL: https://www.imdb.com/title/tt0106977/\n",
            "Scraping URL: https://www.imdb.com/title/tt0107144/\n",
            "Scraping URL: https://www.imdb.com/title/tt0107206/\n",
            "Scraping URL: https://www.imdb.com/title/tt0107290/\n",
            "Scraping URL: https://www.imdb.com/title/tt0107362/\n",
            "Scraping URL: https://www.imdb.com/title/tt0107614/\n",
            "Scraping URL: https://www.imdb.com/title/tt0107818/\n",
            "Scraping URL: https://www.imdb.com/title/tt0107822/\n",
            "Scraping URL: https://www.imdb.com/title/tt0107977/\n",
            "Scraping URL: https://www.imdb.com/title/tt0108052/\n",
            "Scraping URL: https://www.imdb.com/title/tt0108160/\n",
            "Scraping URL: https://www.imdb.com/title/tt0083658/\n",
            "Scraping URL: https://www.imdb.com/title/tt0107688/\n",
            "Scraping URL: https://www.imdb.com/title/tt0108333/\n",
            "Scraping URL: https://www.imdb.com/title/tt0108358/\n",
            "Scraping URL: https://www.imdb.com/title/tt0108399/\n",
            "Scraping URL: https://www.imdb.com/title/tt0099785/\n",
            "Scraping URL: https://www.imdb.com/title/tt0099653/\n",
            "Scraping URL: https://www.imdb.com/title/tt0103639/\n",
            "Scraping URL: https://www.imdb.com/title/tt0103064/\n",
            "Scraping URL: https://www.imdb.com/title/tt0099348/\n",
            "Scraping URL: https://www.imdb.com/title/tt0096895/\n",
            "Scraping URL: https://www.imdb.com/title/tt0102926/\n",
            "Scraping URL: https://www.imdb.com/title/tt0029583/\n",
            "Scraping URL: https://www.imdb.com/title/tt0101414/\n",
            "Scraping URL: https://www.imdb.com/title/tt0032910/\n",
            "Scraping URL: https://www.imdb.com/title/tt0100405/\n",
            "Scraping URL: https://www.imdb.com/title/tt0116282/\n",
            "Scraping URL: https://www.imdb.com/title/tt0117060/\n",
            "Scraping URL: https://www.imdb.com/title/tt0116136/\n",
            "Scraping URL: https://www.imdb.com/title/tt0117705/\n",
            "Scraping URL: https://www.imdb.com/title/tt0117979/\n",
            "Scraping URL: https://www.imdb.com/title/tt0117500/\n",
            "Scraping URL: https://www.imdb.com/title/tt0117998/\n",
            "Scraping URL: https://www.imdb.com/title/tt0057012/\n",
            "Scraping URL: https://www.imdb.com/title/tt0117951/\n",
            "Scraping URL: https://www.imdb.com/title/tt0116629/\n",
            "Scraping URL: https://www.imdb.com/title/tt0115798/\n",
            "Scraping URL: https://www.imdb.com/title/tt0116213/\n",
            "Scraping URL: https://www.imdb.com/title/tt0117218/\n",
            "Scraping URL: https://www.imdb.com/title/tt0068646/\n",
            "Scraping URL: https://www.imdb.com/title/tt0052357/\n",
            "Scraping URL: https://www.imdb.com/title/tt0047396/\n",
            "Scraping URL: https://www.imdb.com/title/tt0053125/\n",
            "Scraping URL: https://www.imdb.com/title/tt0034583/\n",
            "Scraping URL: https://www.imdb.com/title/tt0032138/\n",
            "Scraping URL: https://www.imdb.com/title/tt0033467/\n",
            "Scraping URL: https://www.imdb.com/title/tt0062622/\n",
            "Scraping URL: https://www.imdb.com/title/tt0038650/\n",
            "Scraping URL: https://www.imdb.com/title/tt0058331/\n",
            "Scraping URL: https://www.imdb.com/title/tt0059742/\n",
            "Scraping URL: https://www.imdb.com/title/tt0095016/\n",
            "Scraping URL: https://www.imdb.com/title/tt0067992/\n",
            "Scraping URL: https://www.imdb.com/title/tt0095159/\n",
            "Scraping URL: https://www.imdb.com/title/tt0079470/\n",
            "Scraping URL: https://www.imdb.com/title/tt0105236/\n",
            "Scraping URL: https://www.imdb.com/title/tt0091763/\n",
            "Scraping URL: https://www.imdb.com/title/tt0083866/\n",
            "Scraping URL: https://www.imdb.com/title/tt0092099/\n",
            "Scraping URL: https://www.imdb.com/title/tt0096754/\n",
            "Scraping URL: https://www.imdb.com/title/tt0071853/\n",
            "Scraping URL: https://www.imdb.com/title/tt0108598/\n",
            "Scraping URL: https://www.imdb.com/title/tt0073486/\n",
            "Scraping URL: https://www.imdb.com/title/tt0080684/\n",
            "Scraping URL: https://www.imdb.com/title/tt0093779/\n",
            "Scraping URL: https://www.imdb.com/title/tt0082971/\n",
            "Scraping URL: https://www.imdb.com/title/tt0088846/\n",
            "Scraping URL: https://www.imdb.com/title/tt0090605/\n",
            "Scraping URL: https://www.imdb.com/title/tt0060196/\n",
            "Scraping URL: https://www.imdb.com/title/tt0050083/\n",
            "Scraping URL: https://www.imdb.com/title/tt0066921/\n",
            "Scraping URL: https://www.imdb.com/title/tt0056592/\n",
            "Scraping URL: https://www.imdb.com/title/tt0078788/\n",
            "Scraping URL: https://www.imdb.com/title/tt0086190/\n",
            "Scraping URL: https://www.imdb.com/title/tt0099685/\n",
            "Scraping URL: https://www.imdb.com/title/tt0078748/\n",
            "Scraping URL: https://www.imdb.com/title/tt0106308/\n",
            "Scraping URL: https://www.imdb.com/title/tt0054215/\n",
            "Scraping URL: https://www.imdb.com/title/tt0080455/\n",
            "Scraping URL: https://www.imdb.com/title/tt0071562/\n",
            "Scraping URL: https://www.imdb.com/title/tt0093058/\n",
            "Scraping URL: https://www.imdb.com/title/tt0086879/\n",
            "Scraping URL: https://www.imdb.com/title/tt0075686/\n",
            "Scraping URL: https://www.imdb.com/title/tt0070735/\n",
            "Scraping URL: https://www.imdb.com/title/tt0088247/\n",
            "Scraping URL: https://www.imdb.com/title/tt0097165/\n",
            "Scraping URL: https://www.imdb.com/title/tt0061722/\n",
            "Scraping URL: https://www.imdb.com/title/tt0071315/\n",
            "Scraping URL: https://www.imdb.com/title/tt0081505/\n",
            "Scraping URL: https://www.imdb.com/title/tt0092005/\n",
            "Scraping URL: https://www.imdb.com/title/tt0107048/\n",
            "Scraping URL: https://www.imdb.com/title/tt0088763/\n",
            "Scraping URL: https://www.imdb.com/title/tt0061512/\n",
            "Scraping URL: https://www.imdb.com/title/tt0072431/\n",
            "Scraping URL: https://www.imdb.com/title/tt0032455/\n",
            "Scraping URL: https://www.imdb.com/title/tt0088258/\n",
            "Scraping URL: https://www.imdb.com/title/tt0097576/\n",
            "Scraping URL: https://www.imdb.com/title/tt0097351/\n",
            "Scraping URL: https://www.imdb.com/title/tt0064115/\n",
            "Scraping URL: https://www.imdb.com/title/tt0098635/\n",
            "Scraping URL: https://www.imdb.com/title/tt0117731/\n",
            "Scraping URL: https://www.imdb.com/title/tt0099423/\n",
            "Scraping URL: https://www.imdb.com/title/tt0084726/\n",
            "Scraping URL: https://www.imdb.com/title/tt0103776/\n",
            "Scraping URL: https://www.imdb.com/title/tt0077631/\n",
            "Scraping URL: https://www.imdb.com/title/tt0073195/\n",
            "Scraping URL: https://www.imdb.com/title/tt0116996/\n",
            "Scraping URL: https://www.imdb.com/title/tt0116695/\n",
            "Scraping URL: https://www.imdb.com/title/tt0093822/\n",
            "Scraping URL: https://www.imdb.com/title/tt0117571/\n",
            "Scraping URL: https://www.imdb.com/title/tt0119008/\n",
            "Scraping URL: https://www.imdb.com/title/tt0119528/\n",
            "Scraping URL: https://www.imdb.com/title/tt0119229/\n",
            "Scraping URL: https://www.imdb.com/title/tt0118655/\n",
            "Scraping URL: https://www.imdb.com/title/tt0119116/\n",
            "Scraping URL: https://www.imdb.com/title/tt0119567/\n",
            "Scraping URL: https://www.imdb.com/title/tt0118880/\n",
            "Scraping URL: https://www.imdb.com/title/tt0119094/\n",
            "Scraping URL: https://www.imdb.com/title/tt0119654/\n",
            "Scraping URL: https://www.imdb.com/title/tt0118884/\n",
            "Scraping URL: https://www.imdb.com/title/tt0118571/\n",
            "Scraping URL: https://www.imdb.com/title/tt0099810/\n",
            "Scraping URL: https://www.imdb.com/title/tt0119488/\n",
            "Scraping URL: https://www.imdb.com/title/tt0119174/\n",
            "Scraping URL: https://www.imdb.com/title/tt0118842/\n",
            "Scraping URL: https://www.imdb.com/title/tt0119164/\n",
            "Scraping URL: https://www.imdb.com/title/tt0118971/\n",
            "Scraping URL: https://www.imdb.com/title/tt0119177/\n",
            "Scraping URL: https://www.imdb.com/title/tt0120201/\n",
            "Scraping URL: https://www.imdb.com/title/tt0120382/\n",
            "Scraping URL: https://www.imdb.com/title/tt0119217/\n",
            "Scraping URL: https://www.imdb.com/title/tt0120338/\n",
            "Scraping URL: https://www.imdb.com/title/tt0118715/\n",
            "Scraping URL: https://www.imdb.com/title/tt0120888/\n",
            "Scraping URL: https://www.imdb.com/title/tt0119822/\n",
            "Scraping URL: https://www.imdb.com/title/tt0120591/\n",
            "Scraping URL: https://www.imdb.com/title/tt0129387/\n",
            "Scraping URL: https://www.imdb.com/title/tt0075148/\n",
            "Scraping URL: https://www.imdb.com/title/tt0095953/\n",
            "Scraping URL: https://www.imdb.com/title/tt0088847/\n",
            "Scraping URL: https://www.imdb.com/title/tt0070047/\n",
            "Scraping URL: https://www.imdb.com/title/tt0093409/\n",
            "Scraping URL: https://www.imdb.com/title/tt0089218/\n",
            "Scraping URL: https://www.imdb.com/title/tt0120746/\n",
            "Scraping URL: https://www.imdb.com/title/tt0096874/\n",
            "Scraping URL: https://www.imdb.com/title/tt0099088/\n",
            "Scraping URL: https://www.imdb.com/title/tt0120815/\n",
            "Scraping URL: https://www.imdb.com/title/tt0097523/\n",
            "Scraping URL: https://www.imdb.com/title/tt0061852/\n",
            "Scraping URL: https://www.imdb.com/title/tt0048280/\n",
            "Scraping URL: https://www.imdb.com/title/tt0097757/\n",
            "Scraping URL: https://www.imdb.com/title/tt0088161/\n",
            "Scraping URL: https://www.imdb.com/title/tt0087469/\n",
            "Scraping URL: https://www.imdb.com/title/tt0120611/\n",
            "Scraping URL: https://www.imdb.com/title/tt0094721/\n",
            "Scraping URL: https://www.imdb.com/title/tt0094226/\n",
            "Scraping URL: https://www.imdb.com/title/tt0104257/\n",
            "Scraping URL: https://www.imdb.com/title/tt0099487/\n",
            "Scraping URL: https://www.imdb.com/title/tt0104952/\n",
            "Scraping URL: https://www.imdb.com/title/tt0120789/\n",
            "Scraping URL: https://www.imdb.com/title/tt0118799/\n",
            "Scraping URL: https://www.imdb.com/title/tt0120586/\n",
            "Scraping URL: https://www.imdb.com/title/tt0120660/\n",
            "Scraping URL: https://www.imdb.com/title/tt0120623/\n",
            "Scraping URL: https://www.imdb.com/title/tt0128445/\n",
            "Scraping URL: https://www.imdb.com/title/tt0138097/\n",
            "Scraping URL: https://www.imdb.com/title/tt0088011/\n",
            "Scraping URL: https://www.imdb.com/title/tt0090555/\n",
            "Scraping URL: https://www.imdb.com/title/tt0151804/\n",
            "Scraping URL: https://www.imdb.com/title/tt0063442/\n",
            "Scraping URL: https://www.imdb.com/title/tt0120735/\n",
            "Scraping URL: https://www.imdb.com/title/tt0133093/\n",
            "Scraping URL: https://www.imdb.com/title/tt0147800/\n",
            "Scraping URL: https://www.imdb.com/title/tt0126886/\n",
            "Scraping URL: https://www.imdb.com/title/tt0120616/\n",
            "Scraping URL: https://www.imdb.com/title/tt0120915/\n",
            "Scraping URL: https://www.imdb.com/title/tt0078346/\n",
            "Scraping URL: https://www.imdb.com/title/tt0073629/\n",
            "Scraping URL: https://www.imdb.com/title/tt0125439/\n",
            "Scraping URL: https://www.imdb.com/title/tt0145660/\n",
            "Scraping URL: https://www.imdb.com/title/tt0130827/\n",
            "Scraping URL: https://www.imdb.com/title/tt0099052/\n",
            "Scraping URL: https://www.imdb.com/title/tt0158983/\n",
            "Scraping URL: https://www.imdb.com/title/tt0120891/\n",
            "Scraping URL: https://www.imdb.com/title/tt0163651/\n",
            "Scraping URL: https://www.imdb.com/title/tt0185937/\n",
            "Scraping URL: https://www.imdb.com/title/tt0120663/\n",
            "Scraping URL: https://www.imdb.com/title/tt0087332/\n",
            "Scraping URL: https://www.imdb.com/title/tt0167404/\n",
            "Scraping URL: https://www.imdb.com/title/tt0080339/\n",
            "Scraping URL: https://www.imdb.com/title/tt0094737/\n",
            "Scraping URL: https://www.imdb.com/title/tt0085334/\n",
            "Scraping URL: https://www.imdb.com/title/tt0169547/\n",
            "Scraping URL: https://www.imdb.com/title/tt0100802/\n",
            "Scraping URL: https://www.imdb.com/title/tt0091042/\n",
            "Scraping URL: https://www.imdb.com/title/tt0058150/\n",
            "Scraping URL: https://www.imdb.com/title/tt0137523/\n",
            "Scraping URL: https://www.imdb.com/title/tt0093870/\n",
            "Scraping URL: https://www.imdb.com/title/tt0096438/\n",
            "Scraping URL: https://www.imdb.com/title/tt0120601/\n",
            "Scraping URL: https://www.imdb.com/title/tt0094012/\n",
            "Scraping URL: https://www.imdb.com/title/tt0120655/\n",
            "Scraping URL: https://www.imdb.com/title/tt0162661/\n",
            "Scraping URL: https://www.imdb.com/title/tt0120363/\n",
            "Scraping URL: https://www.imdb.com/title/tt0120689/\n",
            "Scraping URL: https://www.imdb.com/title/tt0175880/\n",
            "Scraping URL: https://www.imdb.com/title/tt0177789/\n",
            "Scraping URL: https://www.imdb.com/title/tt0105793/\n",
            "Scraping URL: https://www.imdb.com/title/tt0195685/\n",
            "Scraping URL: https://www.imdb.com/title/tt0077975/\n",
            "Scraping URL: https://www.imdb.com/title/tt0075860/\n",
            "Scraping URL: https://www.imdb.com/title/tt0146882/\n",
            "Scraping URL: https://www.imdb.com/title/tt0102057/\n",
            "Scraping URL: https://www.imdb.com/title/tt0093773/\n",
            "Scraping URL: https://www.imdb.com/title/tt0144084/\n",
            "Scraping URL: https://www.imdb.com/title/tt0080487/\n",
            "Scraping URL: https://www.imdb.com/title/tt0172495/\n",
            "Scraping URL: https://www.imdb.com/title/tt0120755/\n",
            "Scraping URL: https://www.imdb.com/title/tt0071230/\n",
            "Scraping URL: https://www.imdb.com/title/tt0187078/\n",
            "Scraping URL: https://www.imdb.com/title/tt0120630/\n",
            "Scraping URL: https://www.imdb.com/title/tt0187393/\n",
            "Scraping URL: https://www.imdb.com/title/tt0120903/\n",
            "Scraping URL: https://www.imdb.com/title/tt0181875/\n",
            "Scraping URL: https://www.imdb.com/title/tt0218839/\n",
            "Scraping URL: https://www.imdb.com/title/tt0212338/\n",
            "Scraping URL: https://www.imdb.com/title/tt0180093/\n",
            "Scraping URL: https://www.imdb.com/title/tt0160127/\n",
            "Scraping URL: https://www.imdb.com/title/tt0217869/\n",
            "Scraping URL: https://www.imdb.com/title/tt0190332/\n",
            "Scraping URL: https://www.imdb.com/title/tt0208092/\n",
            "Scraping URL: https://www.imdb.com/title/tt0207201/\n",
            "Scraping URL: https://www.imdb.com/title/tt0162222/\n",
            "Scraping URL: https://www.imdb.com/title/tt0212346/\n",
            "Scraping URL: https://www.imdb.com/title/tt0190590/\n",
            "Scraping URL: https://www.imdb.com/title/tt0181865/\n",
            "Scraping URL: https://www.imdb.com/title/tt0209144/\n",
            "Scraping URL: https://www.imdb.com/title/tt0221027/\n",
            "Scraping URL: https://www.imdb.com/title/tt0243155/\n",
            "Scraping URL: https://www.imdb.com/title/tt0086250/\n",
            "Scraping URL: https://www.imdb.com/title/tt0126029/\n",
            "Scraping URL: https://www.imdb.com/title/tt0203009/\n",
            "Scraping URL: https://www.imdb.com/title/tt0212720/\n",
            "Scraping URL: https://www.imdb.com/title/tt0250494/\n",
            "Scraping URL: https://www.imdb.com/title/tt0230600/\n",
            "Scraping URL: https://www.imdb.com/title/tt0139654/\n",
            "Scraping URL: https://www.imdb.com/title/tt0196229/\n",
            "Scraping URL: https://www.imdb.com/title/tt0166924/\n",
            "Scraping URL: https://www.imdb.com/title/tt0246578/\n",
            "Scraping URL: https://www.imdb.com/title/tt0198781/\n",
            "Scraping URL: https://www.imdb.com/title/tt0241527/\n",
            "Scraping URL: https://www.imdb.com/title/tt0240772/\n",
            "Scraping URL: https://www.imdb.com/title/tt0211915/\n",
            "Scraping URL: https://www.imdb.com/title/tt0265666/\n",
            "Scraping URL: https://www.imdb.com/title/tt0120737/\n",
            "Scraping URL: https://www.imdb.com/title/tt0268978/\n",
            "Scraping URL: https://www.imdb.com/title/tt0268380/\n",
            "Scraping URL: https://www.imdb.com/title/tt0259446/\n",
            "Scraping URL: https://www.imdb.com/title/tt0145487/\n",
            "Scraping URL: https://www.imdb.com/title/tt0121765/\n",
            "Scraping URL: https://www.imdb.com/title/tt0258463/\n",
            "Scraping URL: https://www.imdb.com/title/tt0181689/\n",
            "Scraping URL: https://www.imdb.com/title/tt0120912/\n",
            "Scraping URL: https://www.imdb.com/title/tt0295178/\n",
            "Scraping URL: https://www.imdb.com/title/tt0286106/\n",
            "Scraping URL: https://www.imdb.com/title/tt0245429/\n",
            "Scraping URL: https://www.imdb.com/title/tt0310793/\n",
            "Scraping URL: https://www.imdb.com/title/tt0295297/\n",
            "Scraping URL: https://www.imdb.com/title/tt0167261/\n",
            "Scraping URL: https://www.imdb.com/title/tt0217505/\n",
            "Scraping URL: https://www.imdb.com/title/tt0264464/\n",
            "Scraping URL: https://www.imdb.com/title/tt0317248/\n",
            "Scraping URL: https://www.imdb.com/title/tt0290334/\n",
            "Scraping URL: https://www.imdb.com/title/tt0234215/\n",
            "Scraping URL: https://www.imdb.com/title/tt0315327/\n",
            "Scraping URL: https://www.imdb.com/title/tt0266543/\n",
            "Scraping URL: https://www.imdb.com/title/tt0317740/\n",
            "Scraping URL: https://www.imdb.com/title/tt0289043/\n",
            "Scraping URL: https://www.imdb.com/title/tt0325980/\n",
            "Scraping URL: https://www.imdb.com/title/tt0335266/\n",
            "Scraping URL: https://www.imdb.com/title/tt0332379/\n",
            "Scraping URL: https://www.imdb.com/title/tt0327056/\n",
            "Scraping URL: https://www.imdb.com/title/tt0266697/\n",
            "Scraping URL: https://www.imdb.com/title/tt0242653/\n",
            "Scraping URL: https://www.imdb.com/title/tt0314331/\n",
            "Scraping URL: https://www.imdb.com/title/tt0325710/\n",
            "Scraping URL: https://www.imdb.com/title/tt0319061/\n",
            "Scraping URL: https://www.imdb.com/title/tt0167260/\n",
            "Scraping URL: https://www.imdb.com/title/tt0338013/\n",
            "Scraping URL: https://www.imdb.com/title/tt0378194/\n",
            "Scraping URL: https://www.imdb.com/title/tt0298148/\n",
            "Scraping URL: https://www.imdb.com/title/tt0304141/\n",
            "Scraping URL: https://www.imdb.com/title/tt0316654/\n",
            "Scraping URL: https://www.imdb.com/title/tt0357413/\n",
            "Scraping URL: https://www.imdb.com/title/tt0343818/\n",
            "Scraping URL: https://www.imdb.com/title/tt0372183/\n",
            "Scraping URL: https://www.imdb.com/title/tt0365748/\n",
            "Scraping URL: https://www.imdb.com/title/tt0317705/\n",
            "Scraping URL: https://www.imdb.com/title/tt0405159/\n",
            "Scraping URL: https://www.imdb.com/title/tt0367594/\n",
            "Scraping URL: https://www.imdb.com/title/tt0401792/\n",
            "Scraping URL: https://www.imdb.com/title/tt0121766/\n",
            "Scraping URL: https://www.imdb.com/title/tt0356910/\n",
            "Scraping URL: https://www.imdb.com/title/tt0372784/\n",
            "Scraping URL: https://www.imdb.com/title/tt0396269/\n",
            "Scraping URL: https://www.imdb.com/title/tt0405422/\n",
            "Scraping URL: https://www.imdb.com/title/tt0330373/\n",
            "Scraping URL: https://www.imdb.com/title/tt0363771/\n",
            "Scraping URL: https://www.imdb.com/title/tt0434409/\n",
            "Scraping URL: https://www.imdb.com/title/tt0376994/\n",
            "Scraping URL: https://www.imdb.com/title/tt0383574/\n",
            "Scraping URL: https://www.imdb.com/title/tt0449059/\n",
            "Scraping URL: https://www.imdb.com/title/tt0443453/\n",
            "Scraping URL: https://www.imdb.com/title/tt0457430/\n",
            "Scraping URL: https://www.imdb.com/title/tt0407887/\n",
            "Scraping URL: https://www.imdb.com/title/tt0206634/\n",
            "Scraping URL: https://www.imdb.com/title/tt0482571/\n",
            "Scraping URL: https://www.imdb.com/title/tt0381061/\n",
            "Scraping URL: https://www.imdb.com/title/tt0450259/\n",
            "Scraping URL: https://www.imdb.com/title/tt0382932/\n",
            "Scraping URL: https://www.imdb.com/title/tt0425112/\n",
            "Scraping URL: https://www.imdb.com/title/tt0416449/\n",
            "Scraping URL: https://www.imdb.com/title/tt0478311/\n",
            "Scraping URL: https://www.imdb.com/title/tt0449088/\n",
            "Scraping URL: https://www.imdb.com/title/tt0373889/\n",
            "Scraping URL: https://www.imdb.com/title/tt0440963/\n",
            "Scraping URL: https://www.imdb.com/title/tt0829482/\n",
            "Scraping URL: https://www.imdb.com/title/tt0477348/\n",
            "Scraping URL: https://www.imdb.com/title/tt0480249/\n",
            "Scraping URL: https://www.imdb.com/title/tt0467406/\n",
            "Scraping URL: https://www.imdb.com/title/tt0468569/\n",
            "Scraping URL: https://www.imdb.com/title/tt0371746/\n",
            "Scraping URL: https://www.imdb.com/title/tt0441773/\n",
            "Scraping URL: https://www.imdb.com/title/tt0910970/\n",
            "Scraping URL: https://www.imdb.com/title/tt1010048/\n",
            "Scraping URL: https://www.imdb.com/title/tt0361748/\n",
            "Scraping URL: https://www.imdb.com/title/tt0796366/\n",
            "Scraping URL: https://www.imdb.com/title/tt1049413/\n",
            "Scraping URL: https://www.imdb.com/title/tt1119646/\n",
            "Scraping URL: https://www.imdb.com/title/tt0417741/\n",
            "Scraping URL: https://www.imdb.com/title/tt1136608/\n",
            "Scraping URL: https://www.imdb.com/title/tt1156398/\n",
            "Scraping URL: https://www.imdb.com/title/tt0499549/\n",
            "Scraping URL: https://www.imdb.com/title/tt0988045/\n",
            "Scraping URL: https://www.imdb.com/title/tt1130884/\n",
            "Scraping URL: https://www.imdb.com/title/tt0892769/\n",
            "Scraping URL: https://www.imdb.com/title/tt0435761/\n",
            "Scraping URL: https://www.imdb.com/title/tt1375666/\n",
            "Scraping URL: https://www.imdb.com/title/tt1285016/\n",
            "Scraping URL: https://www.imdb.com/title/tt1504320/\n",
            "Scraping URL: https://www.imdb.com/title/tt0848228/\n",
            "Scraping URL: https://www.imdb.com/title/tt1392170/\n",
            "Scraping URL: https://www.imdb.com/title/tt1345836/\n",
            "Scraping URL: https://www.imdb.com/title/tt1853728/\n",
            "Scraping URL: https://www.imdb.com/title/tt0993846/\n",
            "Scraping URL: https://www.imdb.com/title/tt2278388/\n",
            "Scraping URL: https://www.imdb.com/title/tt0816692/\n",
            "Scraping URL: https://www.imdb.com/title/tt2015381/\n",
            "Scraping URL: https://www.imdb.com/title/tt1431045/\n",
            "                     title imdb_rating\n",
            "0         Toy Story (1995)         8.3\n",
            "1           Jumanji (1995)         7.1\n",
            "2  Grumpier Old Men (1995)         6.7\n",
            "3              Heat (1995)         8.3\n",
            "4           Sabrina (1995)         6.3\n"
          ]
        }
      ]
    },
    {
      "cell_type": "code",
      "source": [
        "def scrapper(imdbId):\n",
        "    id = str(int(imdbId))\n",
        "    n_zeroes = 7 - len(id)\n",
        "    new_id = \"0\" * n_zeroes + id\n",
        "    URL = f\"https://www.imdb.com/title/tt{new_id}/\"\n",
        "\n",
        "    print(f\"Scraping URL: {URL}\")  # Debugging output\n",
        "\n",
        "    request_header = {\n",
        "        'Content-Type': 'text/html; charset=UTF-8',\n",
        "        'User-Agent': 'Mozilla/5.0 (Windows NT 10.0; Win64; x64; rv:109.0) Gecko/20100101 Firefox/119.0',\n",
        "        'Accept-Encoding': 'gzip, deflate, br'\n",
        "    }\n",
        "\n",
        "    response = requests.get(URL, headers=request_header)\n",
        "\n",
        "    if response.status_code != 200:\n",
        "        print(f\"Failed to retrieve {URL}, status code: {response.status_code}\")\n",
        "        return np.nan\n",
        "\n",
        "    soup = BeautifulSoup(response.text, 'html.parser')\n",
        "\n",
        "    imdb_rating = soup.find('span', attrs={'class': 'sc-eb51e184-1 ljxVSS'})\n",
        "\n",
        "    if imdb_rating:\n",
        "        return imdb_rating.text\n",
        "    else:\n",
        "        print(f\"Could not find rating for {URL}\")\n",
        "        return np.nan"
      ],
      "metadata": {
        "id": "kH44mubmDPmW"
      },
      "execution_count": 24,
      "outputs": []
    },
    {
      "cell_type": "markdown",
      "source": [
        "## The movieId of the movie which has the highest IMDB rating is : Shawshank Redemption,(movieId: 318) with a rating of 9.3"
      ],
      "metadata": {
        "id": "AKXc9GxqILgN"
      }
    },
    {
      "cell_type": "code",
      "source": [
        "filtered_movies['imdb_rating'] = pd.to_numeric(filtered_movies['imdb_rating'], errors='coerce')\n",
        "\n",
        "max_imdb_index = filtered_movies['imdb_rating'].idxmax()\n",
        "max_imdb_movieId = filtered_movies.loc[max_imdb_index, 'movieId']\n",
        "max_imdb_movie_title = filtered_movies.loc[max_imdb_index, 'title']\n",
        "max_imdb_rating = filtered_movies.loc[max_imdb_index, 'imdb_rating']\n",
        "\n",
        "print(f\"The movie  '{max_imdb_movie_title}' (movieId: {max_imdb_movieId}) with a rating of {max_imdb_rating}.\")"
      ],
      "metadata": {
        "colab": {
          "base_uri": "https://localhost:8080/"
        },
        "id": "pdDpaef0GnaN",
        "outputId": "48328ad6-72e4-45e1-8b26-6d6480e95f65"
      },
      "execution_count": 26,
      "outputs": [
        {
          "output_type": "stream",
          "name": "stdout",
          "text": [
            "The movie  'Shawshank Redemption, The (1994)' (movieId: 318) with a rating of 9.3.\n"
          ]
        }
      ]
    },
    {
      "cell_type": "markdown",
      "source": [
        "## The movieId of the \"Sci-Fi\" movie which has the highest IMDB rating is : The Sci-Fi  'Inception (2010)' (movieId: 79132) with a rating of 8.8"
      ],
      "metadata": {
        "id": "MqY2H_PYIaBN"
      }
    },
    {
      "cell_type": "code",
      "source": [
        "filtered_movies['imdb_rating'] = pd.to_numeric(filtered_movies['imdb_rating'], errors='coerce')\n",
        "\n",
        "sci_fi_movies = filtered_movies[filtered_movies['genres'].str.contains('Sci-Fi', na=False)]\n",
        "max_imdb_index_sci_fi = sci_fi_movies['imdb_rating'].idxmax()\n",
        "max_imdb_movieId_sci_fi = sci_fi_movies.loc[max_imdb_index_sci_fi, 'movieId']\n",
        "max_imdb_movie_title_sci_fi = sci_fi_movies.loc[max_imdb_index_sci_fi, 'title']\n",
        "max_imdb_rating_sci_fi = sci_fi_movies.loc[max_imdb_index_sci_fi, 'imdb_rating']\n",
        "\n",
        "print(f\"The Sci-Fi  '{max_imdb_movie_title_sci_fi}' (movieId: {max_imdb_movieId_sci_fi}) with a rating of {max_imdb_rating_sci_fi}.\")"
      ],
      "metadata": {
        "colab": {
          "base_uri": "https://localhost:8080/"
        },
        "id": "k4TTZtGtGrVa",
        "outputId": "d3cb2f9d-1e94-44f5-d3d7-eba38d978198"
      },
      "execution_count": 27,
      "outputs": [
        {
          "output_type": "stream",
          "name": "stdout",
          "text": [
            "The Sci-Fi  'Inception (2010)' (movieId: 79132) with a rating of 8.8.\n"
          ]
        }
      ]
    }
  ]
}